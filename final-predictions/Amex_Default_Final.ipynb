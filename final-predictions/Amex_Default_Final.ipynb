{
  "nbformat": 4,
  "nbformat_minor": 0,
  "metadata": {
    "colab": {
      "name": "Amex-Default-Final.ipynb",
      "provenance": [],
      "authorship_tag": "ABX9TyNjsedB4Ax6OaNhYXYOF+/l",
      "include_colab_link": true
    },
    "kernelspec": {
      "name": "python3",
      "display_name": "Python 3"
    },
    "language_info": {
      "name": "python"
    }
  },
  "cells": [
    {
      "cell_type": "markdown",
      "metadata": {
        "id": "view-in-github",
        "colab_type": "text"
      },
      "source": [
        "<a href=\"https://colab.research.google.com/github/eutiagovski/amex-default-predicition/blob/main/final-predictions/Amex_Default_Final.ipynb\" target=\"_parent\"><img src=\"https://colab.research.google.com/assets/colab-badge.svg\" alt=\"Open In Colab\"/></a>"
      ]
    },
    {
      "cell_type": "markdown",
      "source": [
        "### Final Model"
      ],
      "metadata": {
        "id": "mVtTzLmEPNuF"
      }
    },
    {
      "cell_type": "code",
      "source": [
        "!pip install mljar-supervised"
      ],
      "metadata": {
        "id": "PYSEBi6sPYNN"
      },
      "execution_count": null,
      "outputs": []
    },
    {
      "cell_type": "code",
      "source": [
        "# imports\n",
        "\n",
        "import os\n",
        "import gc\n",
        "import glob\n",
        "import tqdm\n",
        "import numpy as np\n",
        "import pandas as pd\n",
        "from supervised.automl import AutoML # mljar-supervised"
      ],
      "metadata": {
        "id": "7PRtSPvNPNTq"
      },
      "execution_count": null,
      "outputs": []
    },
    {
      "cell_type": "code",
      "source": [
        "# load data\n",
        "\n",
        "SEED = 42\n",
        "os.environ['PYTHONHASHSEED'] = str(SEED)\n",
        "\n",
        "test_pkls = sorted(glob.glob('/content/drive/MyDrive/kaggle/amex-default-predict/test_data_*'))\n",
        "\n",
        "df_features = pd.read_pickle('/content/drive/MyDrive/kaggle/amex-default-predict/XGB_model_0.7790193265518999_feature_importance.pkl')"
      ],
      "metadata": {
        "id": "qkzl3joLPg8P"
      },
      "execution_count": null,
      "outputs": []
    },
    {
      "cell_type": "code",
      "source": [
        "# making preditions on test data\n",
        "\n",
        "automl = AutoML('/content/drive/MyDrive/kaggle/amex-default-predict/AutoML_1')\n",
        "\n",
        "for i in range(len(test_pkls)):\n",
        "  print(i)\n",
        "  df = pd.read_pickle(f'/content/drive/MyDrive/kaggle/amex-default-predict/test_data_{i}.pkl')\n",
        "  \n",
        "  for i in range(len(df)):\n",
        "    index_id = df.index[i]\n",
        "    df = df.drop(['customer_ID'], axis=1)\n",
        "    pred = (automl.predict_proba(df.loc[df.index == index_id])[:, 1].reshape(-1, ).astype(np.float32).round(2))\n",
        "    final_df = final_df.append({'customer_ID': index_id, 'prediction': pred[0]}, ignore_index=True)\n",
        "  \n",
        "  del pred, index_id, df\n",
        "  gc.collect()\n"
      ],
      "metadata": {
        "id": "ND5Y1bdcPpNV"
      },
      "execution_count": null,
      "outputs": []
    }
  ]
}