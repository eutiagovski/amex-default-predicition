{
  "cells": [
    {
      "cell_type": "markdown",
      "metadata": {
        "id": "view-in-github",
        "colab_type": "text"
      },
      "source": [
        "<a href=\"https://colab.research.google.com/github/eutiagovski/amex-default-predicition/blob/main/model-selection/Amex_Default_Model_Selection.ipynb\" target=\"_parent\"><img src=\"https://colab.research.google.com/assets/colab-badge.svg\" alt=\"Open In Colab\"/></a>"
      ]
    },
    {
      "cell_type": "code",
      "execution_count": 1,
      "metadata": {
        "colab": {
          "base_uri": "https://localhost:8080/"
        },
        "id": "G7yQ047K1agy",
        "outputId": "fbf8d321-259c-4c06-e6b4-35af5a1748b5"
      },
      "outputs": [
        {
          "output_type": "stream",
          "name": "stdout",
          "text": [
            "Looking in indexes: https://pypi.org/simple, https://us-python.pkg.dev/colab-wheels/public/simple/\n",
            "Collecting mljar-supervised\n",
            "  Downloading mljar-supervised-0.11.2.tar.gz (113 kB)\n",
            "\u001b[K     |████████████████████████████████| 113 kB 4.8 MB/s \n",
            "\u001b[?25hRequirement already satisfied: numpy>=1.19.5 in /usr/local/lib/python3.7/dist-packages (from mljar-supervised) (1.21.6)\n",
            "Requirement already satisfied: pandas>=1.2.0 in /usr/local/lib/python3.7/dist-packages (from mljar-supervised) (1.3.5)\n",
            "Collecting scipy>=1.6.1\n",
            "  Downloading scipy-1.7.3-cp37-cp37m-manylinux_2_12_x86_64.manylinux2010_x86_64.whl (38.1 MB)\n",
            "\u001b[K     |████████████████████████████████| 38.1 MB 1.5 MB/s \n",
            "\u001b[?25hRequirement already satisfied: scikit-learn>=1.0 in /usr/local/lib/python3.7/dist-packages (from mljar-supervised) (1.0.2)\n",
            "Collecting xgboost>=1.3.3\n",
            "  Downloading xgboost-1.6.1-py3-none-manylinux2014_x86_64.whl (192.9 MB)\n",
            "\u001b[K     |████████████████████████████████| 192.9 MB 61 kB/s \n",
            "\u001b[?25hCollecting lightgbm>=3.0.0\n",
            "  Downloading lightgbm-3.3.2-py3-none-manylinux1_x86_64.whl (2.0 MB)\n",
            "\u001b[K     |████████████████████████████████| 2.0 MB 34.4 MB/s \n",
            "\u001b[?25hCollecting catboost>=0.24.4\n",
            "  Downloading catboost-1.0.6-cp37-none-manylinux1_x86_64.whl (76.6 MB)\n",
            "\u001b[K     |████████████████████████████████| 76.6 MB 1.4 MB/s \n",
            "\u001b[?25hRequirement already satisfied: joblib>=1.0.1 in /usr/local/lib/python3.7/dist-packages (from mljar-supervised) (1.1.0)\n",
            "Requirement already satisfied: tabulate>=0.8.7 in /usr/local/lib/python3.7/dist-packages (from mljar-supervised) (0.8.9)\n",
            "Requirement already satisfied: matplotlib>=3.2.2 in /usr/local/lib/python3.7/dist-packages (from mljar-supervised) (3.2.2)\n",
            "Collecting dtreeviz>=1.3.3\n",
            "  Downloading dtreeviz-1.3.6.tar.gz (61 kB)\n",
            "\u001b[K     |████████████████████████████████| 61 kB 251 kB/s \n",
            "\u001b[?25hCollecting shap==0.36.0\n",
            "  Downloading shap-0.36.0.tar.gz (319 kB)\n",
            "\u001b[K     |████████████████████████████████| 319 kB 44.8 MB/s \n",
            "\u001b[?25hRequirement already satisfied: seaborn>=0.11.1 in /usr/local/lib/python3.7/dist-packages (from mljar-supervised) (0.11.2)\n",
            "Collecting wordcloud>=1.8.1\n",
            "  Downloading wordcloud-1.8.1-cp37-cp37m-manylinux1_x86_64.whl (366 kB)\n",
            "\u001b[K     |████████████████████████████████| 366 kB 48.0 MB/s \n",
            "\u001b[?25hCollecting category_encoders>=2.2.2\n",
            "  Downloading category_encoders-2.5.0-py2.py3-none-any.whl (69 kB)\n",
            "\u001b[K     |████████████████████████████████| 69 kB 7.7 MB/s \n",
            "\u001b[?25hCollecting optuna>=2.7.0\n",
            "  Downloading optuna-2.10.1-py3-none-any.whl (308 kB)\n",
            "\u001b[K     |████████████████████████████████| 308 kB 52.3 MB/s \n",
            "\u001b[?25hCollecting scikit-plot==0.3.7\n",
            "  Downloading scikit_plot-0.3.7-py3-none-any.whl (33 kB)\n",
            "Requirement already satisfied: markdown in /usr/local/lib/python3.7/dist-packages (from mljar-supervised) (3.3.7)\n",
            "Requirement already satisfied: typing-extensions in /usr/local/lib/python3.7/dist-packages (from mljar-supervised) (4.1.1)\n",
            "Requirement already satisfied: tqdm>4.25.0 in /usr/local/lib/python3.7/dist-packages (from shap==0.36.0->mljar-supervised) (4.64.0)\n",
            "Collecting slicer\n",
            "  Downloading slicer-0.0.7-py3-none-any.whl (14 kB)\n",
            "Requirement already satisfied: numba in /usr/local/lib/python3.7/dist-packages (from shap==0.36.0->mljar-supervised) (0.51.2)\n",
            "Requirement already satisfied: graphviz in /usr/local/lib/python3.7/dist-packages (from catboost>=0.24.4->mljar-supervised) (0.10.1)\n",
            "Requirement already satisfied: plotly in /usr/local/lib/python3.7/dist-packages (from catboost>=0.24.4->mljar-supervised) (5.5.0)\n",
            "Requirement already satisfied: six in /usr/local/lib/python3.7/dist-packages (from catboost>=0.24.4->mljar-supervised) (1.15.0)\n",
            "Requirement already satisfied: statsmodels>=0.9.0 in /usr/local/lib/python3.7/dist-packages (from category_encoders>=2.2.2->mljar-supervised) (0.10.2)\n",
            "Requirement already satisfied: patsy>=0.5.1 in /usr/local/lib/python3.7/dist-packages (from category_encoders>=2.2.2->mljar-supervised) (0.5.2)\n",
            "Collecting colour\n",
            "  Downloading colour-0.1.5-py2.py3-none-any.whl (23 kB)\n",
            "Requirement already satisfied: pytest in /usr/local/lib/python3.7/dist-packages (from dtreeviz>=1.3.3->mljar-supervised) (3.6.4)\n",
            "Requirement already satisfied: wheel in /usr/local/lib/python3.7/dist-packages (from lightgbm>=3.0.0->mljar-supervised) (0.37.1)\n",
            "Requirement already satisfied: pyparsing!=2.0.4,!=2.1.2,!=2.1.6,>=2.0.1 in /usr/local/lib/python3.7/dist-packages (from matplotlib>=3.2.2->mljar-supervised) (3.0.9)\n",
            "Requirement already satisfied: cycler>=0.10 in /usr/local/lib/python3.7/dist-packages (from matplotlib>=3.2.2->mljar-supervised) (0.11.0)\n",
            "Requirement already satisfied: python-dateutil>=2.1 in /usr/local/lib/python3.7/dist-packages (from matplotlib>=3.2.2->mljar-supervised) (2.8.2)\n",
            "Requirement already satisfied: kiwisolver>=1.0.1 in /usr/local/lib/python3.7/dist-packages (from matplotlib>=3.2.2->mljar-supervised) (1.4.3)\n",
            "Collecting cliff\n",
            "  Downloading cliff-3.10.1-py3-none-any.whl (81 kB)\n",
            "\u001b[K     |████████████████████████████████| 81 kB 9.9 MB/s \n",
            "\u001b[?25hRequirement already satisfied: sqlalchemy>=1.1.0 in /usr/local/lib/python3.7/dist-packages (from optuna>=2.7.0->mljar-supervised) (1.4.37)\n",
            "Requirement already satisfied: packaging>=20.0 in /usr/local/lib/python3.7/dist-packages (from optuna>=2.7.0->mljar-supervised) (21.3)\n",
            "Requirement already satisfied: PyYAML in /usr/local/lib/python3.7/dist-packages (from optuna>=2.7.0->mljar-supervised) (3.13)\n",
            "Collecting alembic\n",
            "  Downloading alembic-1.8.0-py3-none-any.whl (209 kB)\n",
            "\u001b[K     |████████████████████████████████| 209 kB 52.7 MB/s \n",
            "\u001b[?25hCollecting cmaes>=0.8.2\n",
            "  Downloading cmaes-0.8.2-py3-none-any.whl (15 kB)\n",
            "Collecting colorlog\n",
            "  Downloading colorlog-6.6.0-py2.py3-none-any.whl (11 kB)\n",
            "Requirement already satisfied: pytz>=2017.3 in /usr/local/lib/python3.7/dist-packages (from pandas>=1.2.0->mljar-supervised) (2022.1)\n",
            "Requirement already satisfied: threadpoolctl>=2.0.0 in /usr/local/lib/python3.7/dist-packages (from scikit-learn>=1.0->mljar-supervised) (3.1.0)\n",
            "Requirement already satisfied: greenlet!=0.4.17 in /usr/local/lib/python3.7/dist-packages (from sqlalchemy>=1.1.0->optuna>=2.7.0->mljar-supervised) (1.1.2)\n",
            "Requirement already satisfied: importlib-metadata in /usr/local/lib/python3.7/dist-packages (from sqlalchemy>=1.1.0->optuna>=2.7.0->mljar-supervised) (4.11.4)\n",
            "Requirement already satisfied: pillow in /usr/local/lib/python3.7/dist-packages (from wordcloud>=1.8.1->mljar-supervised) (7.1.2)\n",
            "Requirement already satisfied: importlib-resources in /usr/local/lib/python3.7/dist-packages (from alembic->optuna>=2.7.0->mljar-supervised) (5.7.1)\n",
            "Collecting Mako\n",
            "  Downloading Mako-1.2.0-py3-none-any.whl (78 kB)\n",
            "\u001b[K     |████████████████████████████████| 78 kB 8.2 MB/s \n",
            "\u001b[?25hCollecting autopage>=0.4.0\n",
            "  Downloading autopage-0.5.1-py3-none-any.whl (29 kB)\n",
            "Collecting pbr!=2.1.0,>=2.0.0\n",
            "  Downloading pbr-5.9.0-py2.py3-none-any.whl (112 kB)\n",
            "\u001b[K     |████████████████████████████████| 112 kB 48.3 MB/s \n",
            "\u001b[?25hCollecting cmd2>=1.0.0\n",
            "  Downloading cmd2-2.4.1-py3-none-any.whl (146 kB)\n",
            "\u001b[K     |████████████████████████████████| 146 kB 41.6 MB/s \n",
            "\u001b[?25hCollecting stevedore>=2.0.1\n",
            "  Downloading stevedore-3.5.0-py3-none-any.whl (49 kB)\n",
            "\u001b[K     |████████████████████████████████| 49 kB 6.2 MB/s \n",
            "\u001b[?25hRequirement already satisfied: PrettyTable>=0.7.2 in /usr/local/lib/python3.7/dist-packages (from cliff->optuna>=2.7.0->mljar-supervised) (3.3.0)\n",
            "Requirement already satisfied: attrs>=16.3.0 in /usr/local/lib/python3.7/dist-packages (from cmd2>=1.0.0->cliff->optuna>=2.7.0->mljar-supervised) (21.4.0)\n",
            "Requirement already satisfied: wcwidth>=0.1.7 in /usr/local/lib/python3.7/dist-packages (from cmd2>=1.0.0->cliff->optuna>=2.7.0->mljar-supervised) (0.2.5)\n",
            "Collecting pyperclip>=1.6\n",
            "  Downloading pyperclip-1.8.2.tar.gz (20 kB)\n",
            "Requirement already satisfied: zipp>=0.5 in /usr/local/lib/python3.7/dist-packages (from importlib-metadata->sqlalchemy>=1.1.0->optuna>=2.7.0->mljar-supervised) (3.8.0)\n",
            "Requirement already satisfied: MarkupSafe>=0.9.2 in /usr/local/lib/python3.7/dist-packages (from Mako->alembic->optuna>=2.7.0->mljar-supervised) (2.0.1)\n",
            "Requirement already satisfied: setuptools in /usr/local/lib/python3.7/dist-packages (from numba->shap==0.36.0->mljar-supervised) (57.4.0)\n",
            "Requirement already satisfied: llvmlite<0.35,>=0.34.0.dev0 in /usr/local/lib/python3.7/dist-packages (from numba->shap==0.36.0->mljar-supervised) (0.34.0)\n",
            "Requirement already satisfied: tenacity>=6.2.0 in /usr/local/lib/python3.7/dist-packages (from plotly->catboost>=0.24.4->mljar-supervised) (8.0.1)\n",
            "Requirement already satisfied: atomicwrites>=1.0 in /usr/local/lib/python3.7/dist-packages (from pytest->dtreeviz>=1.3.3->mljar-supervised) (1.4.0)\n",
            "Requirement already satisfied: more-itertools>=4.0.0 in /usr/local/lib/python3.7/dist-packages (from pytest->dtreeviz>=1.3.3->mljar-supervised) (8.13.0)\n",
            "Requirement already satisfied: py>=1.5.0 in /usr/local/lib/python3.7/dist-packages (from pytest->dtreeviz>=1.3.3->mljar-supervised) (1.11.0)\n",
            "Requirement already satisfied: pluggy<0.8,>=0.5 in /usr/local/lib/python3.7/dist-packages (from pytest->dtreeviz>=1.3.3->mljar-supervised) (0.7.1)\n",
            "Building wheels for collected packages: mljar-supervised, shap, dtreeviz, pyperclip\n",
            "  Building wheel for mljar-supervised (setup.py) ... \u001b[?25l\u001b[?25hdone\n",
            "  Created wheel for mljar-supervised: filename=mljar_supervised-0.11.2-py3-none-any.whl size=146575 sha256=c1157390dc7c8e8db330e8cb3b1aa3cf73de514ba05a32227b4327a1874f1ff4\n",
            "  Stored in directory: /root/.cache/pip/wheels/4f/67/ed/479dbde33806ee15f1611a7ff54b9db565076be8acf2ef2d29\n",
            "  Building wheel for shap (setup.py) ... \u001b[?25l\u001b[?25hdone\n",
            "  Created wheel for shap: filename=shap-0.36.0-cp37-cp37m-linux_x86_64.whl size=457672 sha256=6212950092d7488f052be6371635c6fd5ba90f614fa60b971af69d854810d844\n",
            "  Stored in directory: /root/.cache/pip/wheels/6b/1e/4a/b1d65778aac48b677ac2a758251f9cccb338775e8d174f3696\n",
            "  Building wheel for dtreeviz (setup.py) ... \u001b[?25l\u001b[?25hdone\n",
            "  Created wheel for dtreeviz: filename=dtreeviz-1.3.6-py3-none-any.whl size=67326 sha256=2fddc6edd575427bba165137314cfc726388c618852ea64dcb57acf80581331f\n",
            "  Stored in directory: /root/.cache/pip/wheels/33/76/fe/99227ff871766e7284bb88d3d28e2f4886b8ec04d669033478\n",
            "  Building wheel for pyperclip (setup.py) ... \u001b[?25l\u001b[?25hdone\n",
            "  Created wheel for pyperclip: filename=pyperclip-1.8.2-py3-none-any.whl size=11137 sha256=cc96e136c984e0203d72dcd615cad384ad4a599aa3be34bc5b700a3a2807cb5f\n",
            "  Stored in directory: /root/.cache/pip/wheels/9f/18/84/8f69f8b08169c7bae2dde6bd7daf0c19fca8c8e500ee620a28\n",
            "Successfully built mljar-supervised shap dtreeviz pyperclip\n",
            "Installing collected packages: pyperclip, pbr, stevedore, scipy, Mako, cmd2, autopage, slicer, colour, colorlog, cmaes, cliff, alembic, xgboost, wordcloud, shap, scikit-plot, optuna, lightgbm, dtreeviz, category-encoders, catboost, mljar-supervised\n",
            "  Attempting uninstall: scipy\n",
            "    Found existing installation: scipy 1.4.1\n",
            "    Uninstalling scipy-1.4.1:\n",
            "      Successfully uninstalled scipy-1.4.1\n",
            "  Attempting uninstall: xgboost\n",
            "    Found existing installation: xgboost 0.90\n",
            "    Uninstalling xgboost-0.90:\n",
            "      Successfully uninstalled xgboost-0.90\n",
            "  Attempting uninstall: wordcloud\n",
            "    Found existing installation: wordcloud 1.5.0\n",
            "    Uninstalling wordcloud-1.5.0:\n",
            "      Successfully uninstalled wordcloud-1.5.0\n",
            "  Attempting uninstall: lightgbm\n",
            "    Found existing installation: lightgbm 2.2.3\n",
            "    Uninstalling lightgbm-2.2.3:\n",
            "      Successfully uninstalled lightgbm-2.2.3\n",
            "\u001b[31mERROR: pip's dependency resolver does not currently take into account all the packages that are installed. This behaviour is the source of the following dependency conflicts.\n",
            "albumentations 0.1.12 requires imgaug<0.2.7,>=0.2.5, but you have imgaug 0.2.9 which is incompatible.\u001b[0m\n",
            "Successfully installed Mako-1.2.0 alembic-1.8.0 autopage-0.5.1 catboost-1.0.6 category-encoders-2.5.0 cliff-3.10.1 cmaes-0.8.2 cmd2-2.4.1 colorlog-6.6.0 colour-0.1.5 dtreeviz-1.3.6 lightgbm-3.3.2 mljar-supervised-0.11.2 optuna-2.10.1 pbr-5.9.0 pyperclip-1.8.2 scikit-plot-0.3.7 scipy-1.7.3 shap-0.36.0 slicer-0.0.7 stevedore-3.5.0 wordcloud-1.8.1 xgboost-1.6.1\n"
          ]
        }
      ],
      "source": [
        "!pip install mljar-supervised"
      ]
    },
    {
      "cell_type": "code",
      "execution_count": 2,
      "metadata": {
        "colab": {
          "base_uri": "https://localhost:8080/"
        },
        "id": "9-WK_toRRuPp",
        "outputId": "620b666b-c8ec-4a16-f76e-e8cdb0652f4f"
      },
      "outputs": [
        {
          "output_type": "stream",
          "name": "stderr",
          "text": [
            "pandas.util.testing is deprecated. Use the functions in the public API at pandas.testing instead.\n"
          ]
        }
      ],
      "source": [
        "# imports\n",
        "\n",
        "import os\n",
        "import gc\n",
        "import glob\n",
        "import tqdm\n",
        "import numpy as np\n",
        "import pandas as pd\n",
        "import xgboost as xgb\n",
        "from sklearn.metrics import mean_squared_error\n",
        "from supervised.automl import AutoML # mljar-supervised\n",
        "\n",
        "from sklearn.model_selection import train_test_split"
      ]
    },
    {
      "cell_type": "code",
      "execution_count": 3,
      "metadata": {
        "id": "7akjIG7ZSAHn"
      },
      "outputs": [],
      "source": [
        "# load data\n",
        "\n",
        "SEED = 42\n",
        "os.environ['PYTHONHASHSEED'] = str(SEED)\n",
        "\n",
        "train_labels = pd.read_csv('/content/drive/MyDrive/kaggle/amex-default-predict/train_labels.csv')\n",
        "train_labels['customer_ID'] = train_labels['customer_ID'].apply(lambda x: int(x[-16:], 16)).astype(np.int64)\n",
        "train_labels = train_labels.set_axis(train_labels['customer_ID'])\n",
        "train_labels = train_labels.drop(['customer_ID'], axis=1)\n",
        "\n",
        "train_pkls = sorted(glob.glob('/content/drive/MyDrive/kaggle/amex-default-predict/train_data_*'))\n",
        "train_y = sorted(glob.glob('/content/drive/MyDrive/kaggle/amex-default-predict/train_y_*.npy'))\n",
        "\n",
        "train_df = pd.read_pickle(train_pkls[0])\n",
        "df_features = pd.read_pickle('/content/drive/MyDrive/kaggle/amex-default-predict/XGB_model_0.7790193265518999_feature_importance.pkl')\n",
        "\n"
      ]
    },
    {
      "cell_type": "code",
      "execution_count": null,
      "metadata": {
        "colab": {
          "base_uri": "https://localhost:8080/"
        },
        "id": "dMwb7rZ90ENS",
        "outputId": "d3001a8d-3176-4a5c-fb6e-2b8be5bbfa5e"
      },
      "outputs": [
        {
          "name": "stdout",
          "output_type": "stream",
          "text": [
            "/content/drive/MyDrive/kaggle/amex-default-predict/train_data_1.pkl\n",
            "/content/drive/MyDrive/kaggle/amex-default-predict/train_data_2.pkl\n",
            "/content/drive/MyDrive/kaggle/amex-default-predict/train_data_3.pkl\n",
            "(458913, 1293) (367130, 1293) (91783, 1293) (367130, 1) (91783, 1)\n"
          ]
        },
        {
          "data": {
            "text/plain": [
              "0"
            ]
          },
          "execution_count": 5,
          "metadata": {},
          "output_type": "execute_result"
        }
      ],
      "source": [
        "# prepare train data\n",
        "\n",
        "train_df = train_pkls[0]\n",
        "for i in train_pkls[1:]:\n",
        "    print(i)\n",
        "    train_df = train_df.append(pd.read_pickle(i))\n",
        "    gc.collect()\n",
        "    \n",
        "y = train_labels.loc[train_df.index.values].values.astype(np.int8)\n",
        "\n",
        "X_train, X_val, y_train, y_val = train_test_split(train_df, y,\n",
        "                                                    stratify=y, \n",
        "                                                    test_size=0.20,\n",
        "                                                    random_state=SEED)\n",
        "print(train_df.shape, X_train.shape, X_val.shape, y_train.shape, y_val.shape)\n",
        "del train_df, y\n",
        "gc.collect()"
      ]
    },
    {
      "cell_type": "code",
      "execution_count": null,
      "metadata": {
        "colab": {
          "base_uri": "https://localhost:8080/",
          "height": 737
        },
        "id": "IU3LkvMbSwDI",
        "outputId": "3a330727-3d09-43cd-c9b0-c2916561b40a"
      },
      "outputs": [
        {
          "name": "stdout",
          "output_type": "stream",
          "text": [
            "AutoML directory: AutoML_1\n",
            "The task is binary_classification with evaluation metric logloss\n",
            "AutoML will use algorithms: ['Xgboost']\n",
            "AutoML will ensemble available models\n",
            "AutoML steps: ['simple_algorithms', 'default_algorithms', 'ensemble']\n",
            "Skip simple_algorithms because no parameters were generated.\n",
            "* Step default_algorithms will try to check up to 1 model\n"
          ]
        },
        {
          "name": "stderr",
          "output_type": "stream",
          "text": [
            "Disable SHAP explanations because of number of columns > 500.\n"
          ]
        },
        {
          "name": "stdout",
          "output_type": "stream",
          "text": [
            "1_Default_Xgboost logloss 0.220805 trained in 1596.72 seconds\n",
            "* Step ensemble will try to check up to 1 model\n",
            "AutoML fit time: 1677.36 seconds\n",
            "AutoML best model: 1_Default_Xgboost\n"
          ]
        },
        {
          "data": {
            "text/plain": [
              "AutoML(algorithms=['Xgboost'])"
            ]
          },
          "execution_count": 6,
          "metadata": {},
          "output_type": "execute_result"
        },
        {
          "data": {
            "image/png": "[encoded data removed]",
            "text/plain": [
              "<Figure size 720x504 with 1 Axes>"
            ]
          },
          "metadata": {},
          "output_type": "display_data"
        }
      ],
      "source": [
        "# searching for the best algorithm with AutoML\n",
        "\n",
        "automl = AutoML() \n",
        "automl.fit(X_train, pd.DataFrame(y_train))"
      ]
    },
    {
      "cell_type": "code",
      "source": [
        "# Comparing the best model "
      ],
      "metadata": {
        "id": "a4h-8IeoSFO1"
      },
      "execution_count": null,
      "outputs": []
    },
    {
      "cell_type": "code",
      "source": [
        ""
      ],
      "metadata": {
        "id": "26sQeVF0SIFV"
      },
      "execution_count": null,
      "outputs": []
    },
    {
      "cell_type": "code",
      "execution_count": null,
      "metadata": {
        "id": "2AKL5j_SU4uO"
      },
      "outputs": [],
      "source": [
        "\n"
      ]
    },
    {
      "cell_type": "code",
      "execution_count": null,
      "metadata": {
        "id": "3GYuEK04dJem"
      },
      "outputs": [],
      "source": [
        "# checking score with amex metric\n",
        "\n",
        "def amex_metric(y_true, y_pred):\n",
        "    labels     = np.transpose(np.array([y_true, y_pred]))\n",
        "    labels     = labels[labels[:, 1].argsort()[::-1]]\n",
        "    weights    = np.where(labels[:,0]==0, 20, 1)\n",
        "    cut_vals   = labels[np.cumsum(weights) <= int(0.04 * np.sum(weights))]\n",
        "    top_four   = np.sum(cut_vals[:,0]) / np.sum(labels[:,0])\n",
        "\n",
        "    gini = [0,0]\n",
        "    for i in [1,0]:\n",
        "        labels         = np.transpose(np.array([y_true, y_pred]))\n",
        "        labels         = labels[labels[:, i].argsort()[::-1]]\n",
        "        weight         = np.where(labels[:,0]==0, 20, 1)\n",
        "        weight_random  = np.cumsum(weight / np.sum(weight))\n",
        "        total_pos      = np.sum(labels[:, 0] *  weight)\n",
        "        cum_pos_found  = np.cumsum(labels[:, 0] * weight)\n",
        "        lorentz        = cum_pos_found / total_pos\n",
        "        gini[i]        = np.sum((lorentz - weight_random) * weight)\n",
        "\n",
        "    return 0.5 * (gini[1]/gini[0] + top_four)"
      ]
    },
    {
      "cell_type": "code",
      "execution_count": null,
      "metadata": {
        "colab": {
          "base_uri": "https://localhost:8080/"
        },
        "id": "-01_2XLlc8gp",
        "outputId": "388d3135-da70-4b14-8d99-5b65bf0fe371"
      },
      "outputs": [
        {
          "data": {
            "text/plain": [
              "0.7818777749075799"
            ]
          },
          "execution_count": 8,
          "metadata": {},
          "output_type": "execute_result"
        }
      ],
      "source": [
        "# making predict and check the final score\n",
        "\n",
        "prediction = automl.predict_proba(X_val)\n",
        "\n",
        "val_score = amex_metric(y_true=y_val.reshape(-1, ), y_pred=prediction[:, 1].reshape(-1, ).astype(np.float32))\n",
        "val_score"
      ]
    },
    {
      "cell_type": "code",
      "source": [
        "#  tunning the best model to get the best score"
      ],
      "metadata": {
        "id": "BF5qxLdXSlxb"
      },
      "execution_count": null,
      "outputs": []
    }
  ],
  "metadata": {
    "colab": {
      "collapsed_sections": [],
      "name": "Amex-Default-Model-Selection.ipynb",
      "provenance": [],
      "mount_file_id": "1pHJscBR9w2Kv7kX3DLg5xO1PFty-4fGN",
      "authorship_tag": "ABX9TyNGFfdBHw6fDL36iKGeqoIu",
      "include_colab_link": true
    },
    "kernelspec": {
      "display_name": "Python 3",
      "name": "python3"
    },
    "language_info": {
      "name": "python"
    },
    "accelerator": "GPU",
    "gpuClass": "standard"
  },
  "nbformat": 4,
  "nbformat_minor": 0
}